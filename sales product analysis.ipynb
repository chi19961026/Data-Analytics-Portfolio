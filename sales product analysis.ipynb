{
 "cells": [
  {
   "attachments": {},
   "cell_type": "markdown",
   "metadata": {},
   "source": [
    "## Sales Product Analysis\n"
   ]
  },
  {
   "cell_type": "code",
   "execution_count": 7,
   "metadata": {},
   "outputs": [],
   "source": [
    "# import the required libraries\n",
    "import pandas as pd\n",
    "import glob\n",
    "import numpy as np\n",
    "import matplotlib.pyplot as plt"
   ]
  },
  {
   "cell_type": "code",
   "execution_count": 8,
   "metadata": {},
   "outputs": [],
   "source": [
    "def print_divider():\n",
    "    print(\"\")\n",
    "    print(\n",
    "        \"-------------------------------------------------------------------------------------------\"\n",
    "    )\n",
    "    print(\"\")"
   ]
  },
  {
   "cell_type": "code",
   "execution_count": 9,
   "metadata": {},
   "outputs": [
    {
     "name": "stdout",
     "output_type": "stream",
     "text": [
      "  Order ID                   Product Quantity Ordered Price Each  \\\n",
      "0   141234                    iPhone                1        700   \n",
      "1   141235  Lightning Charging Cable                1      14.95   \n",
      "2   141236          Wired Headphones                2      11.99   \n",
      "3   141237          27in FHD Monitor                1     149.99   \n",
      "4   141238          Wired Headphones                1      11.99   \n",
      "\n",
      "       Order Date                       Purchase Address  \n",
      "0  01/22/19 21:25        944 Walnut St, Boston, MA 02215  \n",
      "1  01/28/19 14:15       185 Maple St, Portland, OR 97035  \n",
      "2  01/17/19 13:33  538 Adams St, San Francisco, CA 94016  \n",
      "3  01/05/19 20:33     738 10th St, Los Angeles, CA 90001  \n",
      "4  01/25/19 11:59          387 10th St, Austin, TX 73301  \n",
      "\n",
      "-------------------------------------------------------------------------------------------\n",
      "\n",
      "        Order ID               Product Quantity Ordered Price Each  \\\n",
      "count       9697                  9697             9697       9697   \n",
      "unique      9269                    20                8         19   \n",
      "top     Order ID  USB-C Charging Cable                1      11.95   \n",
      "freq          16                  1171             8795       1171   \n",
      "\n",
      "        Order Date  Purchase Address  \n",
      "count         9697              9697  \n",
      "unique        8077              9161  \n",
      "top     Order Date  Purchase Address  \n",
      "freq            16                16  \n"
     ]
    }
   ],
   "source": [
    "# look into one file first\n",
    "jan = pd.read_csv(\n",
    "    \"/Users/yoonchilee/Desktop/Python/sales product ds/archive/Sales_January_2019.csv\"\n",
    ")\n",
    "print(jan.head())\n",
    "print_divider()\n",
    "print(jan.describe())"
   ]
  }
 ],
 "metadata": {
  "kernelspec": {
   "display_name": "Python 3",
   "language": "python",
   "name": "python3"
  },
  "language_info": {
   "codemirror_mode": {
    "name": "ipython",
    "version": 3
   },
   "file_extension": ".py",
   "mimetype": "text/x-python",
   "name": "python",
   "nbconvert_exporter": "python",
   "pygments_lexer": "ipython3",
   "version": "3.11.2"
  },
  "orig_nbformat": 4
 },
 "nbformat": 4,
 "nbformat_minor": 2
}
