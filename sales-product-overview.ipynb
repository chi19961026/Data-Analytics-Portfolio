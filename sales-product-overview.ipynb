{
 "cells": [
  {
   "cell_type": "code",
   "execution_count": 1,
   "id": "d27f1063",
   "metadata": {
    "_cell_guid": "b1076dfc-b9ad-4769-8c92-a6c4dae69d19",
    "_uuid": "8f2839f25d086af736a60e9eeb907d3b93b6e0e5",
    "execution": {
     "iopub.execute_input": "2023-06-04T14:25:16.935357Z",
     "iopub.status.busy": "2023-06-04T14:25:16.934762Z",
     "iopub.status.idle": "2023-06-04T14:25:16.959559Z",
     "shell.execute_reply": "2023-06-04T14:25:16.958352Z"
    },
    "papermill": {
     "duration": 0.031785,
     "end_time": "2023-06-04T14:25:16.962165",
     "exception": false,
     "start_time": "2023-06-04T14:25:16.930380",
     "status": "completed"
    },
    "tags": []
   },
   "outputs": [
    {
     "name": "stdout",
     "output_type": "stream",
     "text": [
      "/kaggle/input/sales-product-data/Sales_August_2019.csv\n",
      "/kaggle/input/sales-product-data/Sales_May_2019.csv\n",
      "/kaggle/input/sales-product-data/Sales_February_2019.csv\n",
      "/kaggle/input/sales-product-data/Sales_November_2019.csv\n",
      "/kaggle/input/sales-product-data/Sales_January_2019.csv\n",
      "/kaggle/input/sales-product-data/Sales_March_2019.csv\n",
      "/kaggle/input/sales-product-data/Sales_September_2019.csv\n",
      "/kaggle/input/sales-product-data/Sales_April_2019.csv\n",
      "/kaggle/input/sales-product-data/Sales_July_2019.csv\n",
      "/kaggle/input/sales-product-data/Sales_October_2019.csv\n",
      "/kaggle/input/sales-product-data/Sales_June_2019.csv\n",
      "/kaggle/input/sales-product-data/Sales_December_2019.csv\n"
     ]
    }
   ],
   "source": [
    "# This Python 3 environment comes with many helpful analytics libraries installed\n",
    "# It is defined by the kaggle/python Docker image: https://github.com/kaggle/docker-python\n",
    "# For example, here's several helpful packages to load\n",
    "\n",
    "import numpy as np # linear algebra\n",
    "import pandas as pd # data processing, CSV file I/O (e.g. pd.read_csv)\n",
    "\n",
    "# Input data files are available in the read-only \"../input/\" directory\n",
    "# For example, running this (by clicking run or pressing Shift+Enter) will list all files under the input directory\n",
    "\n",
    "import os\n",
    "for dirname, _, filenames in os.walk('/kaggle/input'):\n",
    "    for filename in filenames:\n",
    "        print(os.path.join(dirname, filename))\n",
    "\n",
    "# You can write up to 20GB to the current directory (/kaggle/working/) that gets preserved as output when you create a version using \"Save & Run All\" \n",
    "# You can also write temporary files to /kaggle/temp/, but they won't be saved outside of the current session"
   ]
  },
  {
   "cell_type": "code",
   "execution_count": 2,
   "id": "02090bf4",
   "metadata": {
    "execution": {
     "iopub.execute_input": "2023-06-04T14:25:16.969144Z",
     "iopub.status.busy": "2023-06-04T14:25:16.968161Z",
     "iopub.status.idle": "2023-06-04T14:25:16.974412Z",
     "shell.execute_reply": "2023-06-04T14:25:16.973327Z"
    },
    "papermill": {
     "duration": 0.012096,
     "end_time": "2023-06-04T14:25:16.976720",
     "exception": false,
     "start_time": "2023-06-04T14:25:16.964624",
     "status": "completed"
    },
    "tags": []
   },
   "outputs": [],
   "source": [
    "# import the required libraries\n",
    "import pandas as pd\n",
    "import glob\n",
    "import numpy as np\n",
    "import matplotlib.pyplot as plt\n",
    "\n",
    "\n",
    "def print_divider():\n",
    "    print(\"\")\n",
    "    print(\n",
    "        \"-------------------------------------------------------------------------------------------\"\n",
    "    )\n",
    "    print(\"\")"
   ]
  },
  {
   "cell_type": "code",
   "execution_count": 3,
   "id": "d5d2c9a2",
   "metadata": {
    "execution": {
     "iopub.execute_input": "2023-06-04T14:25:16.983502Z",
     "iopub.status.busy": "2023-06-04T14:25:16.982476Z",
     "iopub.status.idle": "2023-06-04T14:25:17.713386Z",
     "shell.execute_reply": "2023-06-04T14:25:17.712037Z"
    },
    "papermill": {
     "duration": 0.737455,
     "end_time": "2023-06-04T14:25:17.716541",
     "exception": false,
     "start_time": "2023-06-04T14:25:16.979086",
     "status": "completed"
    },
    "tags": []
   },
   "outputs": [
    {
     "name": "stdout",
     "output_type": "stream",
     "text": [
      "  Order ID                     Product Quantity Ordered Price Each  \\\n",
      "0   236670            Wired Headphones                2      11.99   \n",
      "1   236671  Bose SoundSport Headphones                1      99.99   \n",
      "2   236672                      iPhone                1      700.0   \n",
      "3   236673       AA Batteries (4-pack)                2       3.84   \n",
      "4   236674       AA Batteries (4-pack)                2       3.84   \n",
      "\n",
      "       Order Date                      Purchase Address  \n",
      "0  08/31/19 22:21      359 Spruce St, Seattle, WA 98101  \n",
      "1  08/15/19 15:11        492 Ridge St, Dallas, TX 75001  \n",
      "2  08/06/19 14:40        149 7th St, Portland, OR 97035  \n",
      "3  08/29/19 20:59     631 2nd St, Los Angeles, CA 90001  \n",
      "4  08/15/19 19:53  736 14th St, New York City, NY 10001  \n",
      "\n",
      "-------------------------------------------------------------------------------------------\n",
      "\n",
      "        Order ID                Product Quantity Ordered Price Each  \\\n",
      "count      11983                  11983            11983      11983   \n",
      "unique     11482                     20                9         24   \n",
      "top     Order ID  AA Batteries (4-pack)                1       3.84   \n",
      "freq          26                   1356            10847       1356   \n",
      "\n",
      "        Order Date  Purchase Address  \n",
      "count        11983             11983  \n",
      "unique        9733             11296  \n",
      "top     Order Date  Purchase Address  \n",
      "freq            26                26  \n",
      "  Order ID                     Product Quantity Ordered Price Each  \\\n",
      "0   236670            Wired Headphones                2      11.99   \n",
      "1   236671  Bose SoundSport Headphones                1      99.99   \n",
      "2   236672                      iPhone                1      700.0   \n",
      "3   236673       AA Batteries (4-pack)                2       3.84   \n",
      "4   236674       AA Batteries (4-pack)                2       3.84   \n",
      "\n",
      "       Order Date                      Purchase Address  \n",
      "0  08/31/19 22:21      359 Spruce St, Seattle, WA 98101  \n",
      "1  08/15/19 15:11        492 Ridge St, Dallas, TX 75001  \n",
      "2  08/06/19 14:40        149 7th St, Portland, OR 97035  \n",
      "3  08/29/19 20:59     631 2nd St, Los Angeles, CA 90001  \n",
      "4  08/15/19 19:53  736 14th St, New York City, NY 10001  \n"
     ]
    }
   ],
   "source": [
    "# look into one file first\n",
    "jan = pd.read_csv(\n",
    "    \"/kaggle/input/sales-product-data/Sales_August_2019.csv\"\n",
    ")\n",
    "print(jan.head())\n",
    "print_divider()\n",
    "print(jan.describe())\n",
    "\n",
    "\n",
    "# read multiple csv and combine them as one dataframe\n",
    "file_paths = glob.glob(\n",
    "    \"/kaggle/input/sales-product-data/*.csv\"\n",
    ")\n",
    "dfs = []\n",
    "for file_path in file_paths:\n",
    "    df = pd.read_csv(file_path)\n",
    "    dfs.append(df)\n",
    "\n",
    "\n",
    "if dfs:\n",
    "    combined_df = pd.concat(dfs, axis=0)\n",
    "    print(combined_df.head())\n",
    "else:\n",
    "    print(\"No CSV files found in the specified directory.\")\n"
   ]
  },
  {
   "cell_type": "code",
   "execution_count": 4,
   "id": "84dba123",
   "metadata": {
    "execution": {
     "iopub.execute_input": "2023-06-04T14:25:17.725114Z",
     "iopub.status.busy": "2023-06-04T14:25:17.724679Z",
     "iopub.status.idle": "2023-06-04T14:25:18.638677Z",
     "shell.execute_reply": "2023-06-04T14:25:18.637525Z"
    },
    "papermill": {
     "duration": 0.921273,
     "end_time": "2023-06-04T14:25:18.641302",
     "exception": false,
     "start_time": "2023-06-04T14:25:17.720029",
     "status": "completed"
    },
    "tags": []
   },
   "outputs": [
    {
     "name": "stdout",
     "output_type": "stream",
     "text": [
      "Order ID            545\n",
      "Product             545\n",
      "Quantity Ordered    545\n",
      "Price Each          545\n",
      "Order Date          545\n",
      "Purchase Address    545\n",
      "dtype: int64\n",
      "\n",
      "-------------------------------------------------------------------------------------------\n",
      "\n",
      "618\n",
      "\n",
      "-------------------------------------------------------------------------------------------\n",
      "\n",
      "['2' '1' '3' '4' 'Quantity Ordered' '6' '7' '5' '8' '9']\n",
      "\n",
      "-------------------------------------------------------------------------------------------\n",
      "\n",
      "     Order ID  Product  Quantity Ordered  Price Each  Order Date  \\\n",
      "211  Order ID  Product  Quantity Ordered  Price Each  Order Date   \n",
      "\n",
      "     Purchase Address  \n",
      "211  Purchase Address  \n"
     ]
    }
   ],
   "source": [
    "# Data cleaning\n",
    "# drop null, duplicated and ineffective data\n",
    "print(combined_df.isna().sum())\n",
    "print_divider()\n",
    "combined_df = combined_df.dropna()\n",
    "\n",
    "print(combined_df.duplicated().sum())\n",
    "print_divider()\n",
    "combined_df = combined_df.drop_duplicates()\n",
    "\n",
    "print(combined_df['Quantity Ordered'].unique())\n",
    "print_divider()\n",
    "print(combined_df[combined_df['Quantity Ordered'] == \"Quantity Ordered\"])\n",
    "combined_df = combined_df.drop(index=254)"
   ]
  }
 ],
 "metadata": {
  "kernelspec": {
   "display_name": "Python 3",
   "language": "python",
   "name": "python3"
  },
  "language_info": {
   "codemirror_mode": {
    "name": "ipython",
    "version": 3
   },
   "file_extension": ".py",
   "mimetype": "text/x-python",
   "name": "python",
   "nbconvert_exporter": "python",
   "pygments_lexer": "ipython3",
   "version": "3.10.10"
  },
  "papermill": {
   "default_parameters": {},
   "duration": 15.349687,
   "end_time": "2023-06-04T14:25:19.666830",
   "environment_variables": {},
   "exception": null,
   "input_path": "__notebook__.ipynb",
   "output_path": "__notebook__.ipynb",
   "parameters": {},
   "start_time": "2023-06-04T14:25:04.317143",
   "version": "2.4.0"
  }
 },
 "nbformat": 4,
 "nbformat_minor": 5
}
